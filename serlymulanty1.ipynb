{
  "nbformat": 4,
  "nbformat_minor": 0,
  "metadata": {
    "colab": {
      "provenance": [],
      "toc_visible": true
    },
    "kernelspec": {
      "name": "python3",
      "display_name": "Python 3"
    },
    "language_info": {
      "name": "python"
    }
  },
  "cells": [
    {
      "cell_type": "code",
      "execution_count": 9,
      "metadata": {
        "id": "k7BaFZQtwA8p"
      },
      "outputs": [],
      "source": [
        "# Operator aritmatika"
      ]
    },
    {
      "cell_type": "code",
      "source": [
        "a, b = 1000000000, 900"
      ],
      "metadata": {
        "id": "LGm-bcb_wnQ0"
      },
      "execution_count": 10,
      "outputs": []
    },
    {
      "cell_type": "code",
      "source": [
        "print(a, '+', b, '=', a + b)"
      ],
      "metadata": {
        "colab": {
          "base_uri": "https://localhost:8080/"
        },
        "id": "a--WAUCbwnvW",
        "outputId": "3d71d8c0-927f-4966-f7ab-f4045ab97925"
      },
      "execution_count": 11,
      "outputs": [
        {
          "output_type": "stream",
          "name": "stdout",
          "text": [
            "1000000000 + 900 = 1000000900\n"
          ]
        }
      ]
    },
    {
      "cell_type": "code",
      "source": [
        "print(a, '-', b, '=', a - b)"
      ],
      "metadata": {
        "colab": {
          "base_uri": "https://localhost:8080/"
        },
        "id": "bPi8npUTwnyO",
        "outputId": "1f972452-e9be-4303-b5eb-712d5c9ddb86"
      },
      "execution_count": 12,
      "outputs": [
        {
          "output_type": "stream",
          "name": "stdout",
          "text": [
            "1000000000 - 900 = 999999100\n"
          ]
        }
      ]
    },
    {
      "cell_type": "code",
      "source": [
        "print(a, '*', b, '=', a * b)"
      ],
      "metadata": {
        "colab": {
          "base_uri": "https://localhost:8080/"
        },
        "id": "nLrxOt_rwn0y",
        "outputId": "fc1e42a0-a5a9-4df4-e1b2-ed4d1343c6a5"
      },
      "execution_count": 13,
      "outputs": [
        {
          "output_type": "stream",
          "name": "stdout",
          "text": [
            "1000000000 * 900 = 900000000000\n"
          ]
        }
      ]
    },
    {
      "cell_type": "code",
      "source": [
        "print(a, ' / ' , b, '=', a / b)"
      ],
      "metadata": {
        "id": "Hevxvu2Uwn3V"
      },
      "execution_count": null,
      "outputs": []
    },
    {
      "cell_type": "code",
      "source": [
        "print(a, '%' , b, '=', a % b)"
      ],
      "metadata": {
        "colab": {
          "base_uri": "https://localhost:8080/"
        },
        "id": "y2fZBSLTwn50",
        "outputId": "1782eb28-1d05-4ddd-d71e-2e404f06ead8"
      },
      "execution_count": 15,
      "outputs": [
        {
          "output_type": "stream",
          "name": "stdout",
          "text": [
            "1000000000 % 900 = 100\n"
          ]
        }
      ]
    },
    {
      "cell_type": "code",
      "source": [
        "print(a, '//', b, '=' , a //b)"
      ],
      "metadata": {
        "colab": {
          "base_uri": "https://localhost:8080/"
        },
        "id": "kaLMOriywn8Y",
        "outputId": "0e1d85b1-e2bf-4f1f-b2ed-b72a54ebda51"
      },
      "execution_count": 16,
      "outputs": [
        {
          "output_type": "stream",
          "name": "stdout",
          "text": [
            "1000000000 // 900 = 1111111\n"
          ]
        }
      ]
    },
    {
      "cell_type": "code",
      "source": [
        "# Operator komparasi atau perbandingan"
      ],
      "metadata": {
        "id": "sZaU3z1Jwn_z"
      },
      "execution_count": 17,
      "outputs": []
    },
    {
      "cell_type": "code",
      "source": [
        "a, b = 5000, 25"
      ],
      "metadata": {
        "id": "QHgnZsJ-xrES"
      },
      "execution_count": 18,
      "outputs": []
    },
    {
      "cell_type": "code",
      "source": [
        "print(a, '>', b, '=' , a > b)"
      ],
      "metadata": {
        "colab": {
          "base_uri": "https://localhost:8080/"
        },
        "id": "4PM7WP1kxu-1",
        "outputId": "829fa3a5-8c74-4462-e26d-d810faaab833"
      },
      "execution_count": 19,
      "outputs": [
        {
          "output_type": "stream",
          "name": "stdout",
          "text": [
            "5000 > 25 = True\n"
          ]
        }
      ]
    },
    {
      "cell_type": "code",
      "source": [
        "print(a, '<', b, '=' , a < b)"
      ],
      "metadata": {
        "colab": {
          "base_uri": "https://localhost:8080/"
        },
        "id": "GutgrM_lxx4h",
        "outputId": "424c233f-e85a-404e-c882-b19f9317e4d2"
      },
      "execution_count": 20,
      "outputs": [
        {
          "output_type": "stream",
          "name": "stdout",
          "text": [
            "5000 < 25 = False\n"
          ]
        }
      ]
    },
    {
      "cell_type": "code",
      "source": [
        "print(a, '==', b, '=' , a == b)"
      ],
      "metadata": {
        "colab": {
          "base_uri": "https://localhost:8080/"
        },
        "id": "wH9x5jsNxyNo",
        "outputId": "7afec74f-db4a-4995-e762-9bc2665e5deb"
      },
      "execution_count": 21,
      "outputs": [
        {
          "output_type": "stream",
          "name": "stdout",
          "text": [
            "5000 == 25 = False\n"
          ]
        }
      ]
    },
    {
      "cell_type": "code",
      "source": [
        "print(a, '!=', b, '=', a != b)"
      ],
      "metadata": {
        "colab": {
          "base_uri": "https://localhost:8080/"
        },
        "id": "_e7UEx_7xyYz",
        "outputId": "44ced633-ee51-449b-a136-9a6724eeec28"
      },
      "execution_count": 22,
      "outputs": [
        {
          "output_type": "stream",
          "name": "stdout",
          "text": [
            "5000 != 25 = True\n"
          ]
        }
      ]
    },
    {
      "cell_type": "code",
      "source": [
        "print(a, '>=' , b, '=', a >= b)"
      ],
      "metadata": {
        "colab": {
          "base_uri": "https://localhost:8080/"
        },
        "id": "9RbIDGZ-x6XO",
        "outputId": "fa869a57-d75c-46fe-e36d-f59120105f07"
      },
      "execution_count": 23,
      "outputs": [
        {
          "output_type": "stream",
          "name": "stdout",
          "text": [
            "5000 >= 25 = True\n"
          ]
        }
      ]
    },
    {
      "cell_type": "code",
      "source": [
        "print(a, '<=' , b, '=', a <= b)"
      ],
      "metadata": {
        "colab": {
          "base_uri": "https://localhost:8080/"
        },
        "id": "hR2JPTHLx6dQ",
        "outputId": "d3d2aa01-756d-4775-d645-75e115ac2238"
      },
      "execution_count": 24,
      "outputs": [
        {
          "output_type": "stream",
          "name": "stdout",
          "text": [
            "5000 <= 25 = False\n"
          ]
        }
      ]
    },
    {
      "cell_type": "code",
      "source": [
        "# operator penugasan pertama"
      ],
      "metadata": {
        "id": "I9NubpGjx_O1"
      },
      "execution_count": 25,
      "outputs": []
    },
    {
      "cell_type": "code",
      "source": [
        "a = 20"
      ],
      "metadata": {
        "id": "OgPX9fcNx_VX"
      },
      "execution_count": 26,
      "outputs": []
    },
    {
      "cell_type": "code",
      "source": [
        "print('a = 20 ->', a)"
      ],
      "metadata": {
        "colab": {
          "base_uri": "https://localhost:8080/"
        },
        "id": "jEXBqLTCx_Y2",
        "outputId": "404394cc-cbad-4332-fb5c-1908a82fa932"
      },
      "execution_count": 27,
      "outputs": [
        {
          "output_type": "stream",
          "name": "stdout",
          "text": [
            "a = 20 -> 20\n"
          ]
        }
      ]
    },
    {
      "cell_type": "code",
      "source": [
        "a += 10"
      ],
      "metadata": {
        "id": "jWZshMZJx_je"
      },
      "execution_count": 29,
      "outputs": []
    },
    {
      "cell_type": "code",
      "source": [
        "print('a += 10 ->', a)"
      ],
      "metadata": {
        "colab": {
          "base_uri": "https://localhost:8080/"
        },
        "id": "bIQuyAQ_yHR9",
        "outputId": "cf554567-5302-4fcb-8761-ea9390e85915"
      },
      "execution_count": 30,
      "outputs": [
        {
          "output_type": "stream",
          "name": "stdout",
          "text": [
            "a += 10 -> 40\n"
          ]
        }
      ]
    },
    {
      "cell_type": "code",
      "source": [
        "a -= 7"
      ],
      "metadata": {
        "id": "NL9-SvJxyIdh"
      },
      "execution_count": 31,
      "outputs": []
    },
    {
      "cell_type": "code",
      "source": [
        "print('a -=7 ->', a)"
      ],
      "metadata": {
        "colab": {
          "base_uri": "https://localhost:8080/"
        },
        "id": "MFOTb8RvyIg7",
        "outputId": "3bfd0efa-f0a5-444e-ecb5-cbd750d2b555"
      },
      "execution_count": 32,
      "outputs": [
        {
          "output_type": "stream",
          "name": "stdout",
          "text": [
            "a -=7 -> 33\n"
          ]
        }
      ]
    },
    {
      "cell_type": "code",
      "source": [
        "a *= 9"
      ],
      "metadata": {
        "id": "oUAxPLzUyImu"
      },
      "execution_count": 33,
      "outputs": []
    },
    {
      "cell_type": "code",
      "source": [
        "print('a *=9 ->', a)"
      ],
      "metadata": {
        "colab": {
          "base_uri": "https://localhost:8080/"
        },
        "id": "R_BOZjZ5yTaW",
        "outputId": "faad89bb-49dd-4b5d-81d9-2bc2e11ec65e"
      },
      "execution_count": 34,
      "outputs": [
        {
          "output_type": "stream",
          "name": "stdout",
          "text": [
            "a *=9 -> 297\n"
          ]
        }
      ]
    },
    {
      "cell_type": "code",
      "source": [
        "# operator penugasan kedua"
      ],
      "metadata": {
        "id": "J_ONwpHuyTc9"
      },
      "execution_count": 35,
      "outputs": []
    },
    {
      "cell_type": "code",
      "source": [
        "# karena a jadi float, kita ubah Lagi menjadi integer"
      ],
      "metadata": {
        "id": "gNVQNS6CyTff"
      },
      "execution_count": 36,
      "outputs": []
    },
    {
      "cell_type": "code",
      "source": [
        "a = int(a)"
      ],
      "metadata": {
        "id": "_daX4xwmyafe"
      },
      "execution_count": 37,
      "outputs": []
    },
    {
      "cell_type": "code",
      "source": [
        "a %=9"
      ],
      "metadata": {
        "id": "EMX80KLpyaiE"
      },
      "execution_count": 38,
      "outputs": []
    },
    {
      "cell_type": "code",
      "source": [
        "print('a % 9 ->', a)"
      ],
      "metadata": {
        "colab": {
          "base_uri": "https://localhost:8080/"
        },
        "id": "Yw2bfGTKyakk",
        "outputId": "f28890cc-c7a0-4fa8-f4ba-3a6cdb3ac42a"
      },
      "execution_count": 39,
      "outputs": [
        {
          "output_type": "stream",
          "name": "stdout",
          "text": [
            "a % 9 -> 0\n"
          ]
        }
      ]
    },
    {
      "cell_type": "code",
      "source": [
        "a //= 6"
      ],
      "metadata": {
        "id": "1mZrALJeyanL"
      },
      "execution_count": 40,
      "outputs": []
    },
    {
      "cell_type": "code",
      "source": [
        "print('a //= 6 ->', a)"
      ],
      "metadata": {
        "colab": {
          "base_uri": "https://localhost:8080/"
        },
        "id": "ERz8LXjzyaqi",
        "outputId": "dfb6a429-ff4b-4b9a-d746-1fe2cda27bfe"
      },
      "execution_count": 41,
      "outputs": [
        {
          "output_type": "stream",
          "name": "stdout",
          "text": [
            "a //= 6 -> 0\n"
          ]
        }
      ]
    },
    {
      "cell_type": "code",
      "source": [
        "a **= 1"
      ],
      "metadata": {
        "id": "nfs_qKEJyTjG"
      },
      "execution_count": 42,
      "outputs": []
    },
    {
      "cell_type": "code",
      "source": [
        "print('a ** = 1 - >', a)"
      ],
      "metadata": {
        "colab": {
          "base_uri": "https://localhost:8080/"
        },
        "id": "4zEj48W0yrzp",
        "outputId": "15289f1e-861a-4a9c-d5e0-3136b3ca03f6"
      },
      "execution_count": 44,
      "outputs": [
        {
          "output_type": "stream",
          "name": "stdout",
          "text": [
            "a ** = 1 - > 0\n"
          ]
        }
      ]
    },
    {
      "cell_type": "code",
      "source": [
        "# Operator logika"
      ],
      "metadata": {
        "id": "gv23W8dHyzvv"
      },
      "execution_count": 45,
      "outputs": []
    },
    {
      "cell_type": "code",
      "source": [
        "print(True and True)"
      ],
      "metadata": {
        "colab": {
          "base_uri": "https://localhost:8080/"
        },
        "id": "o5CKE9f6yzyj",
        "outputId": "76f8291c-e466-4398-dabc-08180586bbd4"
      },
      "execution_count": 46,
      "outputs": [
        {
          "output_type": "stream",
          "name": "stdout",
          "text": [
            "True\n"
          ]
        }
      ]
    },
    {
      "cell_type": "code",
      "source": [
        "print(1 + 2 == 3 and True)"
      ],
      "metadata": {
        "colab": {
          "base_uri": "https://localhost:8080/"
        },
        "id": "qgNB-Drmyz1Y",
        "outputId": "12e31bc0-c492-43f7-a9ff-0439dc3fb675"
      },
      "execution_count": 47,
      "outputs": [
        {
          "output_type": "stream",
          "name": "stdout",
          "text": [
            "True\n"
          ]
        }
      ]
    },
    {
      "cell_type": "code",
      "source": [
        "print('----')"
      ],
      "metadata": {
        "colab": {
          "base_uri": "https://localhost:8080/"
        },
        "id": "UNsGSLmiyz5J",
        "outputId": "40b78047-46dc-4d24-ba9f-debb64260bf0"
      },
      "execution_count": 48,
      "outputs": [
        {
          "output_type": "stream",
          "name": "stdout",
          "text": [
            "----\n"
          ]
        }
      ]
    },
    {
      "cell_type": "code",
      "source": [
        "print(False or 1 > 5)"
      ],
      "metadata": {
        "colab": {
          "base_uri": "https://localhost:8080/"
        },
        "id": "Q6_LI-iJyz8g",
        "outputId": "c95c4d8d-d870-412b-987a-cccb5d67e382"
      },
      "execution_count": 49,
      "outputs": [
        {
          "output_type": "stream",
          "name": "stdout",
          "text": [
            "False\n"
          ]
        }
      ]
    },
    {
      "cell_type": "code",
      "source": [
        "print(False or 5 > 2)"
      ],
      "metadata": {
        "colab": {
          "base_uri": "https://localhost:8080/"
        },
        "id": "KFWYZ4a7y9pA",
        "outputId": "3eed4843-7057-4d81-a865-9e301608aebd"
      },
      "execution_count": 50,
      "outputs": [
        {
          "output_type": "stream",
          "name": "stdout",
          "text": [
            "True\n"
          ]
        }
      ]
    },
    {
      "cell_type": "code",
      "source": [
        "print('----')"
      ],
      "metadata": {
        "colab": {
          "base_uri": "https://localhost:8080/"
        },
        "id": "PSom--rxy9sp",
        "outputId": "d067e0e6-b489-46fb-86ab-74bc7662a9c2"
      },
      "execution_count": 51,
      "outputs": [
        {
          "output_type": "stream",
          "name": "stdout",
          "text": [
            "----\n"
          ]
        }
      ]
    },
    {
      "cell_type": "code",
      "source": [
        "print(not(1 > 5))"
      ],
      "metadata": {
        "colab": {
          "base_uri": "https://localhost:8080/"
        },
        "id": "aRBC3FXczBHj",
        "outputId": "2286d84c-52e1-47c7-8b55-95a499fabcd0"
      },
      "execution_count": 52,
      "outputs": [
        {
          "output_type": "stream",
          "name": "stdout",
          "text": [
            "True\n"
          ]
        }
      ]
    },
    {
      "cell_type": "code",
      "source": [
        "print(not(1 < 5))"
      ],
      "metadata": {
        "colab": {
          "base_uri": "https://localhost:8080/"
        },
        "id": "N4Fs9_f3zDnb",
        "outputId": "d1ef7adc-5472-4d47-d3be-fd878c3dcd42"
      },
      "execution_count": 53,
      "outputs": [
        {
          "output_type": "stream",
          "name": "stdout",
          "text": [
            "False\n"
          ]
        }
      ]
    },
    {
      "cell_type": "code",
      "source": [
        "# Operator keanggotaan"
      ],
      "metadata": {
        "id": "3ybwasyEzDqB"
      },
      "execution_count": 54,
      "outputs": []
    },
    {
      "cell_type": "code",
      "source": [
        "perusahaan = 'Microsoft'"
      ],
      "metadata": {
        "id": "Vbq4jPBpzDsp"
      },
      "execution_count": 55,
      "outputs": []
    },
    {
      "cell_type": "code",
      "source": [
        "list_pulau = ['Java', 'Sumatra', 'Sulawesi']"
      ],
      "metadata": {
        "id": "TK9AlOG8zKQv"
      },
      "execution_count": 56,
      "outputs": []
    },
    {
      "cell_type": "code",
      "source": [
        "# ini adaLah dictionary, insyaallah akan kita pelajari\n",
        "# di pertemuan-pertemuan yang akan datang"
      ],
      "metadata": {
        "id": "h5NuqPHMzKXQ"
      },
      "execution_count": 57,
      "outputs": []
    },
    {
      "cell_type": "code",
      "source": [
        "mahasiswa = {\n",
        "    'nama': 'serly',\n",
        "    'asal': 'Bangka Belitung'\n",
        "    }"
      ],
      "metadata": {
        "id": "pvcn1gkHzKax"
      },
      "execution_count": 3,
      "outputs": []
    },
    {
      "cell_type": "code",
      "source": [
        "print(\n",
        "    \"Apakah 'c' ada di variabel perusahaan?\",\n",
        "    'c' in perusahaan\n",
        ")"
      ],
      "metadata": {
        "colab": {
          "base_uri": "https://localhost:8080/",
          "height": 228
        },
        "id": "xjAUfqqhzULL",
        "outputId": "aa6ed6cd-8ac0-46d6-9211-45f2e618be80"
      },
      "execution_count": 2,
      "outputs": [
        {
          "output_type": "error",
          "ename": "NameError",
          "evalue": "ignored",
          "traceback": [
            "\u001b[0;31m---------------------------------------------------------------------------\u001b[0m",
            "\u001b[0;31mNameError\u001b[0m                                 Traceback (most recent call last)",
            "\u001b[0;32m<ipython-input-2-83e9be7797da>\u001b[0m in \u001b[0;36m<cell line: 1>\u001b[0;34m()\u001b[0m\n\u001b[1;32m      1\u001b[0m print(\n\u001b[1;32m      2\u001b[0m     \u001b[0;34m\"Apakah 'c' ada di variabel perusahaan?\"\u001b[0m\u001b[0;34m,\u001b[0m\u001b[0;34m\u001b[0m\u001b[0;34m\u001b[0m\u001b[0m\n\u001b[0;32m----> 3\u001b[0;31m     \u001b[0;34m'c'\u001b[0m \u001b[0;32min\u001b[0m \u001b[0mperusahaan\u001b[0m\u001b[0;34m\u001b[0m\u001b[0;34m\u001b[0m\u001b[0m\n\u001b[0m\u001b[1;32m      4\u001b[0m )\n",
            "\u001b[0;31mNameError\u001b[0m: name 'perusahaan' is not defined"
          ]
        }
      ]
    },
    {
      "cell_type": "code",
      "source": [
        "print(\n",
        "    \"Apakah 'c' ada di variabel perusahaan?\",\n",
        "    'c' not in perusahaan\n",
        ")"
      ],
      "metadata": {
        "colab": {
          "base_uri": "https://localhost:8080/",
          "height": 228
        },
        "id": "TOYHkOzMzUOr",
        "outputId": "650cb63a-e6de-472a-a65e-fd5e7341ee70"
      },
      "execution_count": 4,
      "outputs": [
        {
          "output_type": "error",
          "ename": "NameError",
          "evalue": "ignored",
          "traceback": [
            "\u001b[0;31m---------------------------------------------------------------------------\u001b[0m",
            "\u001b[0;31mNameError\u001b[0m                                 Traceback (most recent call last)",
            "\u001b[0;32m<ipython-input-4-d366ee71eeef>\u001b[0m in \u001b[0;36m<cell line: 1>\u001b[0;34m()\u001b[0m\n\u001b[1;32m      1\u001b[0m print(\n\u001b[1;32m      2\u001b[0m     \u001b[0;34m\"Apakah 'c' ada di variabel perusahaan?\"\u001b[0m\u001b[0;34m,\u001b[0m\u001b[0;34m\u001b[0m\u001b[0;34m\u001b[0m\u001b[0m\n\u001b[0;32m----> 3\u001b[0;31m     \u001b[0;34m'c'\u001b[0m \u001b[0;32mnot\u001b[0m \u001b[0;32min\u001b[0m \u001b[0mperusahaan\u001b[0m\u001b[0;34m\u001b[0m\u001b[0;34m\u001b[0m\u001b[0m\n\u001b[0m\u001b[1;32m      4\u001b[0m )\n",
            "\u001b[0;31mNameError\u001b[0m: name 'perusahaan' is not defined"
          ]
        }
      ]
    },
    {
      "cell_type": "code",
      "source": [
        "print(\n",
        "    \"Apakah 'mandura' tidak ada di variabel list_pulau?\",\n",
        "    'madura' not in perusahaan\n",
        ")"
      ],
      "metadata": {
        "colab": {
          "base_uri": "https://localhost:8080/"
        },
        "id": "7agHeB3Lzbur",
        "outputId": "56998337-d195-48a2-b405-e532b4d32fa2"
      },
      "execution_count": 61,
      "outputs": [
        {
          "output_type": "stream",
          "name": "stdout",
          "text": [
            "Apakah 'mandura' tidak ada di variabel list_pulau? True\n"
          ]
        }
      ]
    },
    {
      "cell_type": "code",
      "source": [
        "print(\n",
        "    \"Apakah artibut 'nama' ada di variabel mahasiswa?\",\n",
        "    'nama' in mahasiswa"
      ],
      "metadata": {
        "colab": {
          "base_uri": "https://localhost:8080/",
          "height": 141
        },
        "id": "Q9Rsr9dQzbyR",
        "outputId": "d54fa37f-ddf1-406c-ac3d-f03c4b2294f3"
      },
      "execution_count": 5,
      "outputs": [
        {
          "output_type": "error",
          "ename": "SyntaxError",
          "evalue": "ignored",
          "traceback": [
            "\u001b[0;36m  File \u001b[0;32m\"<ipython-input-5-e974758701eb>\"\u001b[0;36m, line \u001b[0;32m3\u001b[0m\n\u001b[0;31m    'nama' in mahasiswa\u001b[0m\n\u001b[0m                       ^\u001b[0m\n\u001b[0;31mSyntaxError\u001b[0m\u001b[0;31m:\u001b[0m incomplete input\n"
          ]
        }
      ]
    },
    {
      "cell_type": "code",
      "source": [
        "# Operator identitas"
      ],
      "metadata": {
        "id": "pEGB8aOYznP6"
      },
      "execution_count": 63,
      "outputs": []
    },
    {
      "cell_type": "code",
      "source": [
        "r= 5\n",
        "s=-1000"
      ],
      "metadata": {
        "id": "EfE3Hn-sznSq"
      },
      "execution_count": 64,
      "outputs": []
    },
    {
      "cell_type": "code",
      "source": [
        "nama_r='budi'\n",
        "nama_s='budi'"
      ],
      "metadata": {
        "id": "GpFb8KxhznWM"
      },
      "execution_count": 65,
      "outputs": []
    },
    {
      "cell_type": "code",
      "source": [
        "# output True\n",
        "print('r is s:', r is s)"
      ],
      "metadata": {
        "colab": {
          "base_uri": "https://localhost:8080/"
        },
        "id": "UzUWZvWRztxF",
        "outputId": "68c68978-7974-4921-8b14-817044783850"
      },
      "execution_count": 66,
      "outputs": [
        {
          "output_type": "stream",
          "name": "stdout",
          "text": [
            "r is s: False\n"
          ]
        }
      ]
    },
    {
      "cell_type": "code",
      "source": [
        "# output False\n",
        "print('r is not s:', r is not s)"
      ],
      "metadata": {
        "colab": {
          "base_uri": "https://localhost:8080/"
        },
        "id": "uQp02itdztz9",
        "outputId": "adb739a7-6eba-4a5e-adcd-447aaa4e6d4d"
      },
      "execution_count": 67,
      "outputs": [
        {
          "output_type": "stream",
          "name": "stdout",
          "text": [
            "r is not s: True\n"
          ]
        }
      ]
    },
    {
      "cell_type": "code",
      "source": [
        "# output True\n",
        "print ('nama r is nama s:', nama_r is nama_s)"
      ],
      "metadata": {
        "colab": {
          "base_uri": "https://localhost:8080/"
        },
        "id": "tx3Qs7hTzt2h",
        "outputId": "79209a08-7e18-4739-ab88-030acd13ee59"
      },
      "execution_count": 68,
      "outputs": [
        {
          "output_type": "stream",
          "name": "stdout",
          "text": [
            "nama r is nama s: True\n"
          ]
        }
      ]
    },
    {
      "cell_type": "code",
      "source": [
        "# output False\n",
        "print ('nama r is not nama s:', nama_r is not nama_s)"
      ],
      "metadata": {
        "colab": {
          "base_uri": "https://localhost:8080/"
        },
        "id": "Lyi8QXmizt5M",
        "outputId": "bf95060d-dc79-4413-dc13-1c7c74fd4bca"
      },
      "execution_count": 69,
      "outputs": [
        {
          "output_type": "stream",
          "name": "stdout",
          "text": [
            "nama r is not nama s: False\n"
          ]
        }
      ]
    },
    {
      "cell_type": "code",
      "source": [
        ">>> id('merah')\n",
        "140442360330498"
      ],
      "metadata": {
        "colab": {
          "base_uri": "https://localhost:8080/"
        },
        "id": "ZrwhUElJzDwN",
        "outputId": "2cce41e5-26a8-42f4-bd4b-fa1f2e0c2f16"
      },
      "execution_count": 70,
      "outputs": [
        {
          "output_type": "execute_result",
          "data": {
            "text/plain": [
              "140442360330498"
            ]
          },
          "metadata": {},
          "execution_count": 70
        }
      ]
    },
    {
      "cell_type": "code",
      "source": [
        ">>> id('10')\n",
        "140442360371792\n",
        ">>>"
      ],
      "metadata": {
        "colab": {
          "base_uri": "https://localhost:8080/"
        },
        "id": "6qPKMDcNz4VW",
        "outputId": "6e37ba82-7817-4f43-ef79-18ef36895cf2"
      },
      "execution_count": 71,
      "outputs": [
        {
          "output_type": "execute_result",
          "data": {
            "text/plain": [
              "140442360371792"
            ]
          },
          "metadata": {},
          "execution_count": 71
        }
      ]
    },
    {
      "cell_type": "code",
      "source": [
        "from google.colab import drive\n",
        "drive.mount('/content/drive')"
      ],
      "metadata": {
        "id": "oC6i1C_53FMm"
      },
      "execution_count": null,
      "outputs": []
    },
    {
      "cell_type": "markdown",
      "source": [
        "# New Section"
      ],
      "metadata": {
        "id": "0bIaACYt8h0p"
      }
    }
  ]
}