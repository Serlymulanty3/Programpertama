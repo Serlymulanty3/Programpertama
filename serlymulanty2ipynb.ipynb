{
  "nbformat": 4,
  "nbformat_minor": 0,
  "metadata": {
    "colab": {
      "provenance": []
    },
    "kernelspec": {
      "name": "python3",
      "display_name": "Python 3"
    },
    "language_info": {
      "name": "python"
    }
  },
  "cells": [
    {
      "cell_type": "code",
      "execution_count": 1,
      "metadata": {
        "id": "VcyW6BbVoeTA"
      },
      "outputs": [],
      "source": [
        "panjang = 10"
      ]
    },
    {
      "cell_type": "code",
      "source": [
        "lebar = 5"
      ],
      "metadata": {
        "id": "a0wUDd0SovNP"
      },
      "execution_count": 2,
      "outputs": []
    },
    {
      "cell_type": "code",
      "source": [
        "luas = panjang * lebar"
      ],
      "metadata": {
        "id": "KyTlMppeo2r9"
      },
      "execution_count": 3,
      "outputs": []
    },
    {
      "cell_type": "code",
      "source": [
        "nama = input('serly: ')"
      ],
      "metadata": {
        "id": "n6OQJIL9qczY"
      },
      "execution_count": null,
      "outputs": []
    },
    {
      "cell_type": "code",
      "source": [
        "print('Halo,',serly, '.. selamat datang!')"
      ],
      "metadata": {
        "colab": {
          "base_uri": "https://localhost:8080/",
          "height": 175
        },
        "id": "sihYXwolq9z-",
        "outputId": "afc24925-26f0-42e5-cf22-29acf9fdf11a"
      },
      "execution_count": 10,
      "outputs": [
        {
          "output_type": "error",
          "ename": "NameError",
          "evalue": "ignored",
          "traceback": [
            "\u001b[0;31m---------------------------------------------------------------------------\u001b[0m",
            "\u001b[0;31mNameError\u001b[0m                                 Traceback (most recent call last)",
            "\u001b[0;32m<ipython-input-10-ebf317574288>\u001b[0m in \u001b[0;36m<cell line: 1>\u001b[0;34m()\u001b[0m\n\u001b[0;32m----> 1\u001b[0;31m \u001b[0mprint\u001b[0m\u001b[0;34m(\u001b[0m\u001b[0;34m'Halo,'\u001b[0m\u001b[0;34m,\u001b[0m\u001b[0mserly\u001b[0m\u001b[0;34m,\u001b[0m \u001b[0;34m'.. selamat datang!'\u001b[0m\u001b[0;34m)\u001b[0m\u001b[0;34m\u001b[0m\u001b[0;34m\u001b[0m\u001b[0m\n\u001b[0m",
            "\u001b[0;31mNameError\u001b[0m: name 'serly' is not defined"
          ]
        }
      ]
    },
    {
      "cell_type": "code",
      "source": [
        "nama = input('serly')"
      ],
      "metadata": {
        "id": "KV6FU5SrsYzz"
      },
      "execution_count": null,
      "outputs": []
    },
    {
      "cell_type": "code",
      "source": [
        "print('variabel nama bertipe data: ', type(nama))"
      ],
      "metadata": {
        "id": "PVLZtn79rgF3"
      },
      "execution_count": null,
      "outputs": []
    },
    {
      "cell_type": "code",
      "source": [
        "print('kalkulator luas persegi panjang\\n')"
      ],
      "metadata": {
        "colab": {
          "base_uri": "https://localhost:8080/"
        },
        "id": "66BuCLClrtvO",
        "outputId": "bee67e1b-78b1-46e1-a005-63b33bcace17"
      },
      "execution_count": 14,
      "outputs": [
        {
          "output_type": "stream",
          "name": "stdout",
          "text": [
            "kalkulator luas persegi panjang\n",
            "\n"
          ]
        }
      ]
    },
    {
      "cell_type": "code",
      "source": [
        "panjang = input('masukkan panjang: ')"
      ],
      "metadata": {
        "id": "2acDmCP6tFGV"
      },
      "execution_count": null,
      "outputs": []
    },
    {
      "cell_type": "code",
      "source": [
        "lebar = input('masukkan lebar: ')"
      ],
      "metadata": {
        "id": "1Psgn-9hs4_s"
      },
      "execution_count": null,
      "outputs": []
    },
    {
      "cell_type": "code",
      "source": [
        "print('Luas =', panjang * lebar)"
      ],
      "metadata": {
        "colab": {
          "base_uri": "https://localhost:8080/"
        },
        "id": "toYsjD5vssgq",
        "outputId": "4a3bbd90-20ed-4c11-c83e-f8b98a0762c2"
      },
      "execution_count": 12,
      "outputs": [
        {
          "output_type": "stream",
          "name": "stdout",
          "text": [
            "Luas = 50\n"
          ]
        }
      ]
    },
    {
      "cell_type": "code",
      "source": [
        "masukkan panjang: 10"
      ],
      "metadata": {
        "id": "Yup9Xsa8tsJw"
      },
      "execution_count": null,
      "outputs": []
    },
    {
      "cell_type": "code",
      "source": [
        "masukkan lebar: 5"
      ],
      "metadata": {
        "id": "8kDO3CURtw3J"
      },
      "execution_count": null,
      "outputs": []
    },
    {
      "cell_type": "code",
      "source": [
        "Traceback (most recent call last):"
      ],
      "metadata": {
        "id": "yJho1TjKt3Ra"
      },
      "execution_count": null,
      "outputs": []
    },
    {
      "cell_type": "code",
      "source": [
        "file \"02-int.py\", line 5, in <module>"
      ],
      "metadata": {
        "colab": {
          "base_uri": "https://localhost:8080/",
          "height": 141
        },
        "id": "zaPshuUwuEEb",
        "outputId": "99ec612e-92c3-4036-8ead-55b654a62997"
      },
      "execution_count": 19,
      "outputs": [
        {
          "output_type": "error",
          "ename": "SyntaxError",
          "evalue": "ignored",
          "traceback": [
            "\u001b[0;36m  File \u001b[0;32m\"<ipython-input-19-2d94823681ea>\"\u001b[0;36m, line \u001b[0;32m1\u001b[0m\n\u001b[0;31m    file \"02-int.py\", line 5, in <module>\u001b[0m\n\u001b[0m         ^\u001b[0m\n\u001b[0;31mSyntaxError\u001b[0m\u001b[0;31m:\u001b[0m invalid syntax\n"
          ]
        }
      ]
    },
    {
      "cell_type": "code",
      "source": [
        "print('Luas =', panjang * lebar)"
      ],
      "metadata": {
        "id": "ZSZhQSOfuw9M"
      },
      "execution_count": null,
      "outputs": []
    },
    {
      "cell_type": "code",
      "source": [
        "TypeError: can 't multiply sequence by non-int of type 'str'"
      ],
      "metadata": {
        "colab": {
          "base_uri": "https://localhost:8080/",
          "height": 141
        },
        "id": "x2SRCpkdu-r-",
        "outputId": "0fab9099-1dc0-4cc3-dcf8-03051f1897a4"
      },
      "execution_count": 21,
      "outputs": [
        {
          "output_type": "error",
          "ename": "SyntaxError",
          "evalue": "ignored",
          "traceback": [
            "\u001b[0;36m  File \u001b[0;32m\"<ipython-input-21-8a413ad1dbee>\"\u001b[0;36m, line \u001b[0;32m1\u001b[0m\n\u001b[0;31m    TypeError: can 't multiply sequence by non-int of type 'str'\u001b[0m\n\u001b[0m                                                               ^\u001b[0m\n\u001b[0;31mSyntaxError\u001b[0m\u001b[0;31m:\u001b[0m unterminated string literal (detected at line 1)\n"
          ]
        }
      ]
    },
    {
      "cell_type": "code",
      "source": [
        "print('kalkulator luas persegi panjang\\n')"
      ],
      "metadata": {
        "colab": {
          "base_uri": "https://localhost:8080/"
        },
        "id": "HpQAiaJfvcYL",
        "outputId": "c75260f1-a1ff-4725-c1af-824c1dc8c8f3"
      },
      "execution_count": 22,
      "outputs": [
        {
          "output_type": "stream",
          "name": "stdout",
          "text": [
            "kalkulator luas persegi panjang\n",
            "\n"
          ]
        }
      ]
    },
    {
      "cell_type": "code",
      "source": [
        "panjang = input('masukkan lebar: ')"
      ],
      "metadata": {
        "id": "UO6SV6Sgwkgk"
      },
      "execution_count": null,
      "outputs": []
    },
    {
      "cell_type": "code",
      "source": [
        "lebar = input('masukkan lebar: ')"
      ],
      "metadata": {
        "id": "KsEcVMq-w0cs"
      },
      "execution_count": null,
      "outputs": []
    },
    {
      "cell_type": "code",
      "source": [
        "print('Luas =', int(panjang) * int(lebar))"
      ],
      "metadata": {
        "id": "PdhV61YNw8ig"
      },
      "execution_count": null,
      "outputs": []
    }
  ]
}