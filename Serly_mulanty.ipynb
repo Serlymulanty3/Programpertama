{
  "nbformat": 4,
  "nbformat_minor": 0,
  "metadata": {
    "colab": {
      "provenance": [],
      "authorship_tag": "ABX9TyPI7C2EiCLNWPbfQBAyWQSX",
      "include_colab_link": true
    },
    "kernelspec": {
      "name": "python3",
      "display_name": "Python 3"
    },
    "language_info": {
      "name": "python"
    }
  },
  "cells": [
    {
      "cell_type": "markdown",
      "metadata": {
        "id": "view-in-github",
        "colab_type": "text"
      },
      "source": [
        "<a href=\"https://colab.research.google.com/github/Serlymulanty3/Programpertama/blob/main/Serly_mulanty.ipynb\" target=\"_parent\"><img src=\"https://colab.research.google.com/assets/colab-badge.svg\" alt=\"Open In Colab\"/></a>"
      ]
    },
    {
      "cell_type": "code",
      "execution_count": 1,
      "metadata": {
        "colab": {
          "base_uri": "https://localhost:8080/"
        },
        "id": "z0AmPxk-8FhV",
        "outputId": "e1073371-401c-4b50-f3fb-393d79a546f1"
      },
      "outputs": [
        {
          "output_type": "stream",
          "name": "stdout",
          "text": [
            "kode program ini akan dieksekusi\n"
          ]
        }
      ],
      "source": [
        "if True:\n",
        "  print('kode program ini akan dieksekusi')"
      ]
    },
    {
      "cell_type": "code",
      "source": [
        "if False:\n",
        "   print('kode program ini tidak akan dieksekusi')"
      ],
      "metadata": {
        "id": "glvIsqZ78KNH"
      },
      "execution_count": 2,
      "outputs": []
    },
    {
      "cell_type": "code",
      "source": [
        "print('kode program ini akan selalu dieksekusi')"
      ],
      "metadata": {
        "colab": {
          "base_uri": "https://localhost:8080/"
        },
        "id": "Hj9D_Ljy8OCC",
        "outputId": "96c41fba-877b-4103-d4d3-3c3fcc22e1ec"
      },
      "execution_count": 3,
      "outputs": [
        {
          "output_type": "stream",
          "name": "stdout",
          "text": [
            "kode program ini akan selalu dieksekusi\n"
          ]
        }
      ]
    },
    {
      "cell_type": "code",
      "source": [
        "nilai = 50\n",
        "print('Nilai anda adalah:', nilai, '\\A')"
      ],
      "metadata": {
        "colab": {
          "base_uri": "https://localhost:8080/"
        },
        "id": "ZhbnDV358RiG",
        "outputId": "1f3ba4f7-ddc9-4fb9-ab78-6ab87af9a250"
      },
      "execution_count": 7,
      "outputs": [
        {
          "output_type": "stream",
          "name": "stdout",
          "text": [
            "Nilai anda adalah: 50 \\A\n"
          ]
        }
      ]
    },
    {
      "cell_type": "code",
      "source": [
        "if nilai >= 70:\n",
        "  print('selamat, anda lulus!')\n",
        "else:\n",
        "  print('maaf,anda tidak lulus.')"
      ],
      "metadata": {
        "colab": {
          "base_uri": "https://localhost:8080/"
        },
        "id": "Ddewn2IC8U-v",
        "outputId": "ac750805-77e7-42ef-c4b2-830ab79d656b"
      },
      "execution_count": 8,
      "outputs": [
        {
          "output_type": "stream",
          "name": "stdout",
          "text": [
            "maaf,anda tidak lulus.\n"
          ]
        }
      ]
    },
    {
      "cell_type": "code",
      "source": [
        "nilai = int(input('masukkan nilai: '))\n",
        "if nilai >= 90:\n",
        "  print('predikat A')\n",
        "elif nilai >= 80:\n",
        "  print('predikat B')\n",
        "elif nilai >= 60:\n",
        "  print('predikat C')\n",
        "elif nilai >= 40:\n",
        "  print('predikat D')\n",
        "else:\n",
        "  print('predikat E')"
      ],
      "metadata": {
        "colab": {
          "base_uri": "https://localhost:8080/"
        },
        "id": "RKg-Nse98eB1",
        "outputId": "e3ae5ce3-9077-42e7-c56d-9a1d2ac0ca04"
      },
      "execution_count": 9,
      "outputs": [
        {
          "output_type": "stream",
          "name": "stdout",
          "text": [
            "masukkan nilai: 80\n",
            "predikat B\n"
          ]
        }
      ]
    },
    {
      "cell_type": "code",
      "source": [
        "buah_yang_tersedia = ['jeruk','mangga','melon']\n",
        "buah_yang_dicari = input('masukkan nama buah dalam huruf kecil: ')\n",
        "\n",
        "if (buah_yang_dicari in buah_yang_tersedia):\n",
        "  print('buah yang anda cari tersedia!')\n",
        "else:\n",
        "  print('buah yang anda cari tidak tersedia! ')"
      ],
      "metadata": {
        "colab": {
          "base_uri": "https://localhost:8080/"
        },
        "id": "_gbQh1mz8xnH",
        "outputId": "679be88e-5566-40e6-9bac-6a23216f18ba"
      },
      "execution_count": 11,
      "outputs": [
        {
          "output_type": "stream",
          "name": "stdout",
          "text": [
            "masukkan nama buah dalam huruf kecil: ape\n",
            "buah yang anda cari tidak tersedia! \n"
          ]
        }
      ]
    },
    {
      "cell_type": "code",
      "source": [
        "nilai = int(input('masukkan nilai: '))\n",
        "usia = int(input('masukkan usia: '))\n",
        "\n",
        "if nilai >= 75:\n",
        "  if (usia < 15):\n",
        "    print('selamat adek, kamu lulus! ')\n",
        "  else:\n",
        "    print('selamat kakak, kamu lulus! ')\n",
        "else:\n",
        "  if (usia < 15):\n",
        "    print('mohon maaf dek, coba lagi ya! ')\n",
        "  else:\n",
        "    print('mohon maaf kak, coba lagi ya! ')"
      ],
      "metadata": {
        "colab": {
          "base_uri": "https://localhost:8080/"
        },
        "id": "irEZ3Ylm9HR5",
        "outputId": "c103d8f9-7897-4ba4-e6f2-774ce6d4bbcc"
      },
      "execution_count": 12,
      "outputs": [
        {
          "output_type": "stream",
          "name": "stdout",
          "text": [
            "masukkan nilai: 60\n",
            "masukkan usia: 15\n",
            "mohon maaf kak, coba lagi ya! \n"
          ]
        }
      ]
    },
    {
      "cell_type": "code",
      "source": [],
      "metadata": {
        "id": "ACvdY_ef86Cf"
      },
      "execution_count": null,
      "outputs": []
    }
  ]
}