{
  "nbformat": 4,
  "nbformat_minor": 0,
  "metadata": {
    "colab": {
      "provenance": []
    },
    "kernelspec": {
      "name": "python3",
      "display_name": "Python 3"
    },
    "language_info": {
      "name": "python"
    }
  },
  "cells": [
    {
      "cell_type": "code",
      "execution_count": null,
      "metadata": {
        "colab": {
          "base_uri": "https://localhost:8080/"
        },
        "id": "4oB5AWXwZsw_",
        "outputId": "554f1330-3dae-4e71-c552-99c1e5becee5"
      },
      "outputs": [
        {
          "output_type": "stream",
          "name": "stdout",
          "text": [
            "Hello, selamat pagi\n"
          ]
        }
      ],
      "source": [
        "# Membuat Fungsi\n",
        "def salam():\n",
        "    print (\"Hello, selamat pagi\")\n",
        "\n",
        "## Pemanggilan Fungsi\n",
        "salam()\n"
      ]
    },
    {
      "cell_type": "code",
      "source": [
        "# Membuat Fungsi\n",
        "def salam():\n",
        "    print (\"Hello, selamat pagi\")\n",
        "\n",
        "## Pemanggilan Fungsi\n",
        "salam()\n",
        "salam()\n",
        "salam()"
      ],
      "metadata": {
        "colab": {
          "base_uri": "https://localhost:8080/"
        },
        "id": "XjBZlQsnbGcD",
        "outputId": "3c60ebef-eec1-4622-daae-e27770283e02"
      },
      "execution_count": null,
      "outputs": [
        {
          "output_type": "stream",
          "name": "stdout",
          "text": [
            "Hello, selamat pagi\n",
            "Hello, selamat pagi\n",
            "Hello, selamat pagi\n"
          ]
        }
      ]
    },
    {
      "cell_type": "code",
      "source": [
        "def salam(ucapan):\n",
        "  print(ucapan)\n",
        "salam(\"selamat siang\")"
      ],
      "metadata": {
        "colab": {
          "base_uri": "https://localhost:8080/"
        },
        "id": "ozozQh-xbYI1",
        "outputId": "0b77cc10-f0fe-4226-a25a-d8e7478d24c1"
      },
      "execution_count": null,
      "outputs": [
        {
          "output_type": "stream",
          "name": "stdout",
          "text": [
            "selamat siang\n"
          ]
        }
      ]
    },
    {
      "cell_type": "code",
      "source": [
        "# Membuat fungsi dengan parameter\n",
        "def luas_segitiga(alas, tinggi):\n",
        "    luas = (alas * tinggi) / 2\n",
        "    print (\"Luas segitiga: %f\" % luas)\n",
        "\n",
        "# Pemanggilan fungsi\n",
        "luas_segitiga(4, 6)"
      ],
      "metadata": {
        "colab": {
          "base_uri": "https://localhost:8080/"
        },
        "id": "nLR0gr90cNKz",
        "outputId": "ed1d5749-adad-45ce-e894-9c13232f04df"
      },
      "execution_count": null,
      "outputs": [
        {
          "output_type": "stream",
          "name": "stdout",
          "text": [
            "Luas segitiga: 12.000000\n"
          ]
        }
      ]
    },
    {
      "cell_type": "code",
      "source": [
        "def luas_persegi(sisi):\n",
        "    luas = sisi * sisi\n",
        "    return luas\n",
        "\n",
        "# Pemanggilan fungsi\n",
        "print (\"Luas persegi: %d\" % luas_persegi(6))"
      ],
      "metadata": {
        "colab": {
          "base_uri": "https://localhost:8080/"
        },
        "id": "ebCSMFFjdlbl",
        "outputId": "60a7b35b-8e4b-4a4f-db0b-798b4f3f7352"
      },
      "execution_count": null,
      "outputs": [
        {
          "output_type": "stream",
          "name": "stdout",
          "text": [
            "Luas persegi: 36\n"
          ]
        }
      ]
    },
    {
      "cell_type": "code",
      "source": [
        "# membuat variabel global\n",
        "nama = \"Belajar Kode\"\n",
        "versi = \"1.0.0\"\n",
        "\n",
        "def help():\n",
        "  # ini variabel lokal\n",
        "  nama = \"Programku\"\n",
        "  versi = \"1.0.1\"\n",
        "  # mengakses variabel lokal\n",
        "  print (\"Nama: %s\" % nama)\n",
        "  print (\"versi: %s\" % versi)\n",
        "\n",
        "# mengakses variabel global\n",
        "print (\"Nama: %s\" % nama)\n",
        "print (\"versi: %s\" % versi)\n",
        "\n",
        "# memanggil fungsi help()\n",
        "help()"
      ],
      "metadata": {
        "colab": {
          "base_uri": "https://localhost:8080/"
        },
        "id": "aAI5lci1o34v",
        "outputId": "f14d3d44-faa8-4e38-bb09-9b8795d6186b"
      },
      "execution_count": null,
      "outputs": [
        {
          "output_type": "stream",
          "name": "stdout",
          "text": [
            "Nama: Belajar Kode\n",
            "versi: 1.0.0\n",
            "Nama: Programku\n",
            "versi: 1.0.1\n"
          ]
        }
      ]
    },
    {
      "cell_type": "code",
      "source": [
        "# membuat variabel global\n",
        "nama = \"Nama, tanggal lahir\"\n",
        "versi = \"Serly, 03 desember 2004\"\n",
        "\n",
        "def help():\n",
        "  # ini variabel lokal\n",
        "  nama = \"biodata hobi, jurusan, tempat tinggal\"\n",
        "  versi = \"memasak, ilmu komputer, pelangas\"\n",
        "  # mengakses variabel lokal\n",
        "  print (\"Nama: %s\" % nama)\n",
        "  print (\"versi: %s\" % versi)\n",
        "\n",
        "# mengakses variabel global\n",
        "print (\"Nama: %s\" % nama)\n",
        "print (\"versi: %s\" % versi)\n",
        "\n",
        "# memanggil fungsi help()\n",
        "help()"
      ],
      "metadata": {
        "colab": {
          "base_uri": "https://localhost:8080/"
        },
        "id": "hfRcZdLmeOr3",
        "outputId": "1d85d26d-c0b3-4998-8826-f23f564383c2"
      },
      "execution_count": null,
      "outputs": [
        {
          "output_type": "stream",
          "name": "stdout",
          "text": [
            "Nama: Nama, tanggal lahir\n",
            "versi: Serly, 03 desember 2004\n",
            "Nama: biodata hobi, jurusan, tempat tinggal\n",
            "versi: memasak, ilmu komputer, pelangas\n"
          ]
        }
      ]
    },
    {
      "cell_type": "code",
      "source": [
        "buku = []\n",
        "# fungsi untuk menampilkan semua data\n",
        "def show_data():\n",
        "    if len(buku) <= 0:\n",
        "        print(\"BELUM ADA DATA\")\n",
        "    else:\n",
        "        for indeks in range(len(buku)):\n",
        "            print(\"[{}] {}\".format(indeks, buku[indeks]))\n",
        "\n",
        "# fungsi untuk menambah data\n",
        "def insert_data():\n",
        "    buku_baru = input(\"Judul Buku:\")\n",
        "    buku.append(buku_baru)\n",
        "\n",
        "# fungsi untuk edit data\n",
        "def edit_data():\n",
        "    show_data()\n",
        "    indeks = int(input(\"Inputan ID buku\"))\n",
        "    if indeks > len(buku):\n",
        "      print(\"ID salah\")\n",
        "    else:\n",
        "      judul_baru = input(\"Judul Buku:\")\n",
        "      buku[indeks] = judul_baru\n",
        "\n",
        "def delete_data():\n",
        "    show_data()\n",
        "    indeks = int(input(\"Inputan ID buku\"))\n",
        "    if indeks > len(buku):\n",
        "      print(\"ID salah\")\n",
        "    else:\n",
        "      buku.remove(buku[indeks])\n",
        "\n",
        "# fungsi untuk menampilkan menu\n",
        "def show_menu():\n",
        "    print(\"\\n\")\n",
        "    print(\"---------- MENU ----------\")\n",
        "    print(\"[1] Show Data\")\n",
        "    print(\"[2] Insert Data\")\n",
        "    print(\"[3] Edit Data\")\n",
        "    print(\"[4] Delete Data12345678\")\n",
        "    print(\"[5] Exit\")\n",
        "    menu = input(\"PILIH MENU>\")\n",
        "    print(\"\\n\")\n",
        "\n",
        "    if int(menu) == 1:\n",
        "      show_data()\n",
        "    elif int(menu) == 2:\n",
        "      insert_data()\n",
        "    elif int(menu) == 3:\n",
        "      edit_data()\n",
        "    elif int(menu) == 4:\n",
        "      delete_data()\n",
        "    elif int(menu) == 5:\n",
        "     exit()\n",
        "    else:\n",
        "      print(\"Salah pilih!\")\n",
        "\n",
        "if __name__ == \"__main__\":\n",
        "\n",
        "    while True:\n",
        "        show_menu()"
      ],
      "metadata": {
        "colab": {
          "base_uri": "https://localhost:8080/"
        },
        "id": "p-tnlKidCjJz",
        "outputId": "18e5588e-9307-4af3-f0ff-88991d2892c0"
      },
      "execution_count": null,
      "outputs": [
        {
          "output_type": "stream",
          "name": "stdout",
          "text": [
            "\n",
            "\n",
            "---------- MENU ----------\n",
            "[1] Show Data\n",
            "[2] Insert Data\n",
            "[3] Edit Data\n",
            "[4] Delete Data12345678\n",
            "[5] Exit\n",
            "PILIH MENU>2\n",
            "\n",
            "\n",
            "Judul Buku:0\n",
            "\n",
            "\n",
            "---------- MENU ----------\n",
            "[1] Show Data\n",
            "[2] Insert Data\n",
            "[3] Edit Data\n",
            "[4] Delete Data12345678\n",
            "[5] Exit\n",
            "PILIH MENU>3\n",
            "\n",
            "\n",
            "[0] 0\n",
            "Inputan ID buku0\n",
            "Judul Buku:5\n",
            "\n",
            "\n",
            "---------- MENU ----------\n",
            "[1] Show Data\n",
            "[2] Insert Data\n",
            "[3] Edit Data\n",
            "[4] Delete Data12345678\n",
            "[5] Exit\n",
            "PILIH MENU>5\n",
            "\n",
            "\n",
            "\n",
            "\n",
            "---------- MENU ----------\n",
            "[1] Show Data\n",
            "[2] Insert Data\n",
            "[3] Edit Data\n",
            "[4] Delete Data12345678\n",
            "[5] Exit\n",
            "PILIH MENU>5\n",
            "\n",
            "\n",
            "\n",
            "\n",
            "---------- MENU ----------\n",
            "[1] Show Data\n",
            "[2] Insert Data\n",
            "[3] Edit Data\n",
            "[4] Delete Data12345678\n",
            "[5] Exit\n",
            "PILIH MENU>4\n",
            "\n",
            "\n",
            "[0] 5\n"
          ]
        }
      ]
    }
  ]
}